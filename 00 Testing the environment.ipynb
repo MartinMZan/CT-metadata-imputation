{
 "cells": [
  {
   "cell_type": "code",
   "execution_count": 3,
   "metadata": {},
   "outputs": [
    {
     "name": "stdout",
     "output_type": "stream",
     "text": [
      "SimpleITK Version: 2.2.1 (ITK 5.3)\n",
      "Compiled: Dec  2 2022 12:26:06\n",
      "\n"
     ]
    }
   ],
   "source": [
    "import SimpleITK as sitk\n",
    "\n",
    "print(sitk.Version())"
   ]
  },
  {
   "cell_type": "code",
   "execution_count": 4,
   "metadata": {},
   "outputs": [],
   "source": [
    "# View test picture in Fiji\n",
    "image_viewer = sitk.ImageViewer()\n",
    "\n",
    "image_viewer.Execute(sitk.ReadImage('simpleitk.jpg'))"
   ]
  },
  {
   "cell_type": "code",
   "execution_count": 5,
   "metadata": {},
   "outputs": [],
   "source": [
    "# ... the same in Slicer\n",
    "image_viewer = sitk.ImageViewer()\n",
    "\n",
    "image_viewer.SetApplication('C:/Users/zanma/AppData/Local/NA-MIC/Slicer 5.2.2/Slicer.exe')\n",
    "\n",
    "image_viewer.Execute(sitk.ReadImage('simpleitk.jpg'))\n"
   ]
  }
 ],
 "metadata": {
  "kernelspec": {
   "display_name": "GE",
   "language": "python",
   "name": "ge"
  },
  "language_info": {
   "codemirror_mode": {
    "name": "ipython",
    "version": 3
   },
   "file_extension": ".py",
   "mimetype": "text/x-python",
   "name": "python",
   "nbconvert_exporter": "python",
   "pygments_lexer": "ipython3",
   "version": "3.10.9"
  }
 },
 "nbformat": 4,
 "nbformat_minor": 2
}
