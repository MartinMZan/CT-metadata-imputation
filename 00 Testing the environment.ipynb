{
 "cells": [
  {
   "cell_type": "code",
   "execution_count": 2,
   "metadata": {},
   "outputs": [
    {
     "name": "stdout",
     "output_type": "stream",
     "text": [
      "SimpleITK Version: 2.2.1 (ITK 5.3)\n",
      "Compiled: Jan  3 2023 17:12:31\n",
      "\n"
     ]
    }
   ],
   "source": [
    "import SimpleITK as sitk\n",
    "\n",
    "print(sitk.Version())"
   ]
  },
  {
   "cell_type": "code",
   "execution_count": 3,
   "metadata": {},
   "outputs": [],
   "source": [
    "# View test picture in Fiji\n",
    "image_viewer = sitk.ImageViewer()\n",
    "\n",
    "image_viewer.Execute(sitk.ReadImage('simpleitk.jpg'))"
   ]
  },
  {
   "cell_type": "code",
   "execution_count": 4,
   "metadata": {},
   "outputs": [],
   "source": [
    "# ... the same in Slicer\n",
    "image_viewer = sitk.ImageViewer()\n",
    "\n",
    "image_viewer.SetApplication('C:/Users/zanma/AppData/Local/NA-MIC/Slicer 5.2.2/Slicer.exe')\n",
    "\n",
    "image_viewer.Execute(sitk.ReadImage('simpleitk.jpg'))\n"
   ]
  }
 ],
 "metadata": {
  "kernelspec": {
   "display_name": "venv",
   "language": "python",
   "name": "python3"
  },
  "language_info": {
   "codemirror_mode": {
    "name": "ipython",
    "version": 3
   },
   "file_extension": ".py",
   "mimetype": "text/x-python",
   "name": "python",
   "nbconvert_exporter": "python",
   "pygments_lexer": "ipython3",
   "version": "3.11.3"
  },
  "orig_nbformat": 4
 },
 "nbformat": 4,
 "nbformat_minor": 2
}
