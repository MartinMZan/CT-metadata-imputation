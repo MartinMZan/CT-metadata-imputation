{
 "cells": [
  {
   "cell_type": "code",
   "execution_count": 1,
   "metadata": {},
   "outputs": [],
   "source": [
    "FOLDER = '../manifest-1557326747206'"
   ]
  },
  {
   "cell_type": "code",
   "execution_count": 2,
   "metadata": {},
   "outputs": [],
   "source": [
    "import pandas as pd\n",
    "\n",
    "df = pd.read_csv(f'{FOLDER}/metadata.csv')\n",
    "df_locations = df[['Data Description URI', 'Manufacturer', 'File Location']]\n",
    "\n",
    "# After this sort the locations will be like: test1-CT, test1-RT, test2-CT, test2-RT, ...\n",
    "df_locations = df_locations.sort_values(['Data Description URI', 'Manufacturer'])\n",
    "\n",
    "# Reduce data size for testing purposes\n",
    "df_locations = df_locations.iloc[:6]"
   ]
  },
  {
   "cell_type": "code",
   "execution_count": 3,
   "metadata": {},
   "outputs": [
    {
     "data": {
      "text/html": [
       "<div>\n",
       "<style scoped>\n",
       "    .dataframe tbody tr th:only-of-type {\n",
       "        vertical-align: middle;\n",
       "    }\n",
       "\n",
       "    .dataframe tbody tr th {\n",
       "        vertical-align: top;\n",
       "    }\n",
       "\n",
       "    .dataframe thead th {\n",
       "        text-align: right;\n",
       "    }\n",
       "</style>\n",
       "<table border=\"1\" class=\"dataframe\">\n",
       "  <thead>\n",
       "    <tr style=\"text-align: right;\">\n",
       "      <th></th>\n",
       "      <th>Data Description URI</th>\n",
       "      <th>Manufacturer</th>\n",
       "      <th>File Location</th>\n",
       "    </tr>\n",
       "  </thead>\n",
       "  <tbody>\n",
       "    <tr>\n",
       "      <th>1.3.6.1.4.1.14519.5.2.1.7014.4598.106943890850011666503487579262</th>\n",
       "      <td>LCTSC-Test-S1-101</td>\n",
       "      <td>CT</td>\n",
       "      <td>.\\LCTSC\\LCTSC-Test-S1-101\\03-03-2004-NA-NA-081...</td>\n",
       "    </tr>\n",
       "    <tr>\n",
       "      <th>1.3.6.1.4.1.14519.5.2.1.7014.4598.280355341349691222365783556597</th>\n",
       "      <td>LCTSC-Test-S1-101</td>\n",
       "      <td>RTSTRUCT</td>\n",
       "      <td>.\\LCTSC\\LCTSC-Test-S1-101\\03-03-2004-NA-NA-081...</td>\n",
       "    </tr>\n",
       "    <tr>\n",
       "      <th>1.3.6.1.4.1.14519.5.2.1.7014.4598.639871532605224417554459681163</th>\n",
       "      <td>LCTSC-Test-S1-102</td>\n",
       "      <td>CT</td>\n",
       "      <td>.\\LCTSC\\LCTSC-Test-S1-102\\11-04-2003-NA-RTRCCT...</td>\n",
       "    </tr>\n",
       "    <tr>\n",
       "      <th>1.3.6.1.4.1.14519.5.2.1.7014.4598.110977663386843546355807661874</th>\n",
       "      <td>LCTSC-Test-S1-102</td>\n",
       "      <td>RTSTRUCT</td>\n",
       "      <td>.\\LCTSC\\LCTSC-Test-S1-102\\11-04-2003-NA-RTRCCT...</td>\n",
       "    </tr>\n",
       "    <tr>\n",
       "      <th>1.3.6.1.4.1.14519.5.2.1.7014.4598.578895540487402949445746417374</th>\n",
       "      <td>LCTSC-Test-S1-103</td>\n",
       "      <td>CT</td>\n",
       "      <td>.\\LCTSC\\LCTSC-Test-S1-103\\11-09-2003-NA-RTRCCT...</td>\n",
       "    </tr>\n",
       "    <tr>\n",
       "      <th>1.3.6.1.4.1.14519.5.2.1.7014.4598.941697026234857133685181755546</th>\n",
       "      <td>LCTSC-Test-S1-103</td>\n",
       "      <td>RTSTRUCT</td>\n",
       "      <td>.\\LCTSC\\LCTSC-Test-S1-103\\11-09-2003-NA-RTRCCT...</td>\n",
       "    </tr>\n",
       "  </tbody>\n",
       "</table>\n",
       "</div>"
      ],
      "text/plain": [
       "                                                   Data Description URI  \\\n",
       "1.3.6.1.4.1.14519.5.2.1.7014.4598.1069438908500...    LCTSC-Test-S1-101   \n",
       "1.3.6.1.4.1.14519.5.2.1.7014.4598.2803553413496...    LCTSC-Test-S1-101   \n",
       "1.3.6.1.4.1.14519.5.2.1.7014.4598.6398715326052...    LCTSC-Test-S1-102   \n",
       "1.3.6.1.4.1.14519.5.2.1.7014.4598.1109776633868...    LCTSC-Test-S1-102   \n",
       "1.3.6.1.4.1.14519.5.2.1.7014.4598.5788955404874...    LCTSC-Test-S1-103   \n",
       "1.3.6.1.4.1.14519.5.2.1.7014.4598.9416970262348...    LCTSC-Test-S1-103   \n",
       "\n",
       "                                                   Manufacturer  \\\n",
       "1.3.6.1.4.1.14519.5.2.1.7014.4598.1069438908500...           CT   \n",
       "1.3.6.1.4.1.14519.5.2.1.7014.4598.2803553413496...     RTSTRUCT   \n",
       "1.3.6.1.4.1.14519.5.2.1.7014.4598.6398715326052...           CT   \n",
       "1.3.6.1.4.1.14519.5.2.1.7014.4598.1109776633868...     RTSTRUCT   \n",
       "1.3.6.1.4.1.14519.5.2.1.7014.4598.5788955404874...           CT   \n",
       "1.3.6.1.4.1.14519.5.2.1.7014.4598.9416970262348...     RTSTRUCT   \n",
       "\n",
       "                                                                                        File Location  \n",
       "1.3.6.1.4.1.14519.5.2.1.7014.4598.1069438908500...  .\\LCTSC\\LCTSC-Test-S1-101\\03-03-2004-NA-NA-081...  \n",
       "1.3.6.1.4.1.14519.5.2.1.7014.4598.2803553413496...  .\\LCTSC\\LCTSC-Test-S1-101\\03-03-2004-NA-NA-081...  \n",
       "1.3.6.1.4.1.14519.5.2.1.7014.4598.6398715326052...  .\\LCTSC\\LCTSC-Test-S1-102\\11-04-2003-NA-RTRCCT...  \n",
       "1.3.6.1.4.1.14519.5.2.1.7014.4598.1109776633868...  .\\LCTSC\\LCTSC-Test-S1-102\\11-04-2003-NA-RTRCCT...  \n",
       "1.3.6.1.4.1.14519.5.2.1.7014.4598.5788955404874...  .\\LCTSC\\LCTSC-Test-S1-103\\11-09-2003-NA-RTRCCT...  \n",
       "1.3.6.1.4.1.14519.5.2.1.7014.4598.9416970262348...  .\\LCTSC\\LCTSC-Test-S1-103\\11-09-2003-NA-RTRCCT...  "
      ]
     },
     "execution_count": 3,
     "metadata": {},
     "output_type": "execute_result"
    }
   ],
   "source": [
    "df_locations"
   ]
  },
  {
   "cell_type": "code",
   "execution_count": 4,
   "metadata": {},
   "outputs": [],
   "source": [
    "# Get Numpy arrays from the CT\n",
    "import numpy as np\n",
    "import SimpleITK as sitk\n",
    "\n",
    "def ct_to_np(path):\n",
    "    '''# Get Numpy arrays from a CT image'''\n",
    "    path = FOLDER + path.replace('\\\\', '/').strip('.')\n",
    "    reader = sitk.ImageSeriesReader()\n",
    "    dicom_names = reader.GetGDCMSeriesFileNames(path)\n",
    "    reader.SetFileNames(dicom_names)\n",
    "    image = reader.Execute()\n",
    "    npa = sitk.GetArrayViewFromImage(image)\n",
    "    return npa\n",
    "\n",
    "def get_metadata(path):\n",
    "    '''Get metadata from an RT file.'''\n",
    "    path = FOLDER + path.replace('\\\\', '/').strip('.') + '/1-1.dcm'\n",
    "    ds = pydicom.dcmread(path)\n",
    "    gender = ds[0x0010, 0x0040].value\n",
    "    return gender"
   ]
  },
  {
   "cell_type": "code",
   "execution_count": 5,
   "metadata": {},
   "outputs": [],
   "source": [
    "import pydicom\n",
    "\n",
    "X = []\n",
    "y = []\n",
    "\n",
    "for ct, rt in zip(df_locations['File Location'][0::2], df_locations['File Location'][1::2]):\n",
    "    X.append(ct_to_np(ct))\n",
    "    y.append(get_metadata(rt))"
   ]
  },
  {
   "cell_type": "code",
   "execution_count": 6,
   "metadata": {},
   "outputs": [
    {
     "name": "stdout",
     "output_type": "stream",
     "text": [
      "['M', 'F', 'M']\n"
     ]
    }
   ],
   "source": [
    "# Gender\n",
    "print(y)"
   ]
  },
  {
   "cell_type": "code",
   "execution_count": 7,
   "metadata": {
    "scrolled": true
   },
   "outputs": [
    {
     "data": {
      "text/plain": [
       "((130, 512, 512), (148, 512, 512), (152, 512, 512))"
      ]
     },
     "execution_count": 7,
     "metadata": {},
     "output_type": "execute_result"
    }
   ],
   "source": [
    "# The sizes are not standardized, hence we cannot create a 4D numpy array\n",
    "X[0].shape, X[1].shape, X[2].shape"
   ]
  },
  {
   "cell_type": "markdown",
   "metadata": {},
   "source": [
    "I've only found the gender yet, so now I will look for other metadata.\\\n",
    "We want to find the following data:\\\n",
    "-classification: gender, contrast vs non-contrast, patient orientation\\\n",
    "-regression: height, weight, age"
   ]
  },
  {
   "cell_type": "code",
   "execution_count": 8,
   "metadata": {},
   "outputs": [],
   "source": [
    "rt = df_locations['File Location'][1]\n",
    "path = FOLDER + rt.replace('\\\\', '/').strip('.') + '/1-1.dcm'\n",
    "ds = pydicom.dcmread(path)"
   ]
  },
  {
   "cell_type": "code",
   "execution_count": 9,
   "metadata": {},
   "outputs": [],
   "source": [
    "# ds"
   ]
  },
  {
   "cell_type": "markdown",
   "metadata": {},
   "source": [
    "(0010, 0030) Patient's Birth Date                DA: ''\\\n",
    "(0010, 0040) Patient's Sex                       CS: 'M'\\\n",
    "I have not found the others"
   ]
  },
  {
   "cell_type": "code",
   "execution_count": 10,
   "metadata": {},
   "outputs": [
    {
     "data": {
      "text/plain": [
       "dict_keys([(0008, 0005), (0008, 0012), (0008, 0013), (0008, 0014), (0008, 0016), (0008, 0018), (0008, 0020), (0008, 0030), (0008, 0050), (0008, 0060), (0008, 0070), (0008, 0090), (0008, 1030), (0008, 103e), (0008, 1090), (0010, 0010), (0010, 0020), (0010, 0030), (0010, 0040), (0012, 0062), (0012, 0063), (0012, 0064), (0013, 0010), (0013, 1010), (0013, 1013), (0018, 0015), (0018, 1020), (0020, 000d), (0020, 000e), (0020, 0010), (0020, 0011), (0020, 0013), (0028, 0303), (3006, 0002), (3006, 0004), (3006, 0008), (3006, 0009), (3006, 0010), (3006, 0020), (3006, 0039), (3006, 0080)])"
      ]
     },
     "execution_count": 10,
     "metadata": {},
     "output_type": "execute_result"
    }
   ],
   "source": [
    "ds.keys()"
   ]
  },
  {
   "cell_type": "markdown",
   "metadata": {},
   "source": [
    "According to the standard:\\\n",
    "(0010,1010) Age (of course Birth Date would be good as well if it wouldn't be empty)\\\n",
    "(0010,1020) Height\\\n",
    "(0010,1030) Weight\\\n",
    "(0020,0020) Patient Orientation\\\n",
    "(0018,0010) Contrast/Bolus Agent Attribute\\\n",
    "We definitely don't have these here."
   ]
  }
 ],
 "metadata": {
  "kernelspec": {
   "display_name": "GE",
   "language": "python",
   "name": "ge"
  },
  "language_info": {
   "codemirror_mode": {
    "name": "ipython",
    "version": 3
   },
   "file_extension": ".py",
   "mimetype": "text/x-python",
   "name": "python",
   "nbconvert_exporter": "python",
   "pygments_lexer": "ipython3",
   "version": "3.9.16"
  }
 },
 "nbformat": 4,
 "nbformat_minor": 2
}
