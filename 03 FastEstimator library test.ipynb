{
 "cells": [
  {
   "cell_type": "code",
   "execution_count": 1,
   "id": "9e2de053",
   "metadata": {
    "scrolled": true
   },
   "outputs": [
    {
     "name": "stderr",
     "output_type": "stream",
     "text": [
      "C:\\Users\\zanma\\anaconda3\\envs\\GE\\lib\\site-packages\\tqdm\\auto.py:22: TqdmWarning: IProgress not found. Please update jupyter and ipywidgets. See https://ipywidgets.readthedocs.io/en/stable/user_install.html\n",
      "  from .autonotebook import tqdm as notebook_tqdm\n"
     ]
    },
    {
     "data": {
      "text/plain": [
       "'1.10.2+cpu'"
      ]
     },
     "execution_count": 1,
     "metadata": {},
     "output_type": "execute_result"
    }
   ],
   "source": [
    "# If I import the Pytorch first then it works. If I import the Tensorflow first it will give error.\n",
    "import torch\n",
    "torch.__version__"
   ]
  },
  {
   "cell_type": "code",
   "execution_count": 2,
   "id": "2c84d9f0",
   "metadata": {},
   "outputs": [
    {
     "data": {
      "text/plain": [
       "'2.9.1'"
      ]
     },
     "execution_count": 2,
     "metadata": {},
     "output_type": "execute_result"
    }
   ],
   "source": [
    "import tensorflow as tf\n",
    "tf.__version__"
   ]
  },
  {
   "cell_type": "code",
   "execution_count": 3,
   "id": "436ebc16",
   "metadata": {
    "scrolled": true
   },
   "outputs": [
    {
     "name": "stdout",
     "output_type": "stream",
     "text": [
      "FastEstimator-Warn: Pipeline multiprocessing is disabled. OS must support the 'fork' start method.\n"
     ]
    }
   ],
   "source": [
    "import fastestimator as fe\n",
    "from fastestimator.dataset.data import mnist\n",
    "from fastestimator.op.numpyop.univariate import ExpandDims, Minmax\n",
    "\n",
    "train_data, eval_data = mnist.load_data()\n",
    "\n",
    "pipeline = fe.Pipeline(train_data=train_data,\n",
    "                       eval_data=eval_data,\n",
    "                       batch_size=32,\n",
    "                       ops=[ExpandDims(inputs=\"x\", outputs=\"x\"), Minmax(inputs=\"x\", outputs=\"x\")])"
   ]
  },
  {
   "cell_type": "code",
   "execution_count": 4,
   "id": "980abbe2",
   "metadata": {},
   "outputs": [],
   "source": [
    "from fastestimator.architecture.tensorflow import LeNet\n",
    "# from fastestimator.architecture.pytorch import LeNet  # One can also use a pytorch model\n",
    "\n",
    "from fastestimator.op.tensorop.loss import CrossEntropy\n",
    "from fastestimator.op.tensorop.model import ModelOp, UpdateOp\n",
    "\n",
    "model = fe.build(model_fn=LeNet, optimizer_fn=\"adam\")\n",
    "\n",
    "network = fe.Network(ops=[\n",
    "        ModelOp(model=model, inputs=\"x\", outputs=\"y_pred\"),\n",
    "        CrossEntropy(inputs=(\"y_pred\", \"y\"), outputs=\"ce\"),\n",
    "        UpdateOp(model=model, loss_name=\"ce\") \n",
    "    ])"
   ]
  },
  {
   "cell_type": "code",
   "execution_count": 5,
   "id": "d3fa63af",
   "metadata": {},
   "outputs": [],
   "source": [
    "from fastestimator.trace.metric import Accuracy\n",
    "from fastestimator.trace.io import BestModelSaver\n",
    "import tempfile\n",
    "\n",
    "traces = [Accuracy(true_key=\"y\", pred_key=\"y_pred\"),\n",
    "          BestModelSaver(model=model, save_dir=tempfile.mkdtemp(), metric=\"accuracy\", save_best_mode=\"max\")]\n",
    "\n",
    "estimator = fe.Estimator(pipeline=pipeline,\n",
    "                         network=network,\n",
    "                         epochs=2,\n",
    "                         traces=traces)"
   ]
  },
  {
   "cell_type": "code",
   "execution_count": 6,
   "id": "065920f7",
   "metadata": {},
   "outputs": [
    {
     "name": "stdout",
     "output_type": "stream",
     "text": [
      "    ______           __  ______     __  _                 __            \n",
      "   / ____/___ ______/ /_/ ____/____/ /_(_)___ ___  ____ _/ /_____  _____\n",
      "  / /_  / __ `/ ___/ __/ __/ / ___/ __/ / __ `__ \\/ __ `/ __/ __ \\/ ___/\n",
      " / __/ / /_/ (__  ) /_/ /___(__  ) /_/ / / / / / / /_/ / /_/ /_/ / /    \n",
      "/_/    \\__,_/____/\\__/_____/____/\\__/_/_/ /_/ /_/\\__,_/\\__/\\____/_/     \n",
      "                                                                        \n",
      "\n",
      "FastEstimator-Start: step: 1; logging_interval: 100; num_device: 0;\n",
      "FastEstimator-Train: step: 1; ce: 2.3221712;\n",
      "FastEstimator-Train: step: 100; ce: 0.53834504; steps/sec: 112.49;\n",
      "FastEstimator-Train: step: 200; ce: 0.21255937; steps/sec: 108.09;\n",
      "FastEstimator-Train: step: 300; ce: 0.093046635; steps/sec: 104.39;\n",
      "FastEstimator-Train: step: 400; ce: 0.2404779; steps/sec: 114.43;\n",
      "FastEstimator-Train: step: 500; ce: 0.13437817; steps/sec: 114.47;\n",
      "FastEstimator-Train: step: 600; ce: 0.013130439; steps/sec: 109.1;\n",
      "FastEstimator-Train: step: 700; ce: 0.18559057; steps/sec: 105.97;\n",
      "FastEstimator-Train: step: 800; ce: 0.20349514; steps/sec: 104.18;\n",
      "FastEstimator-Train: step: 900; ce: 0.019623483; steps/sec: 92.61;\n",
      "FastEstimator-Train: step: 1000; ce: 0.15919198; steps/sec: 102.72;\n",
      "FastEstimator-Train: step: 1100; ce: 0.17631796; steps/sec: 110.4;\n",
      "FastEstimator-Train: step: 1200; ce: 0.27678096; steps/sec: 114.59;\n",
      "FastEstimator-Train: step: 1300; ce: 0.06379817; steps/sec: 110.99;\n",
      "FastEstimator-Train: step: 1400; ce: 0.10710436; steps/sec: 114.58;\n",
      "FastEstimator-Train: step: 1500; ce: 0.064558126; steps/sec: 93.85;\n",
      "FastEstimator-Train: step: 1600; ce: 0.055397097; steps/sec: 100.9;\n",
      "FastEstimator-Train: step: 1700; ce: 0.03844548; steps/sec: 100.3;\n",
      "FastEstimator-Train: step: 1800; ce: 0.012083433; steps/sec: 100.61;\n",
      "FastEstimator-Train: step: 1875; epoch: 1; epoch_time: 19.15 sec;\n",
      "Eval Progress: 1/312;\n",
      "Eval Progress: 104/312; steps/sec: 124.49;\n",
      "Eval Progress: 208/312; steps/sec: 141.34;\n",
      "Eval Progress: 312/312; steps/sec: 148.24;\n",
      "FastEstimator-BestModelSaver: Saved model to C:\\Users\\zanma\\AppData\\Local\\Temp\\tmpouxlxlgy\\model_best_accuracy.h5\n",
      "FastEstimator-Eval: step: 1875; epoch: 1; accuracy: 0.9864; ce: 0.04170121; max_accuracy: 0.9864; since_best_accuracy: 0;\n",
      "FastEstimator-Train: step: 1900; ce: 0.009555923; steps/sec: 76.65;\n",
      "FastEstimator-Train: step: 2000; ce: 0.025800088; steps/sec: 92.75;\n",
      "FastEstimator-Train: step: 2100; ce: 0.01098101; steps/sec: 95.6;\n",
      "FastEstimator-Train: step: 2200; ce: 0.043762784; steps/sec: 99.49;\n",
      "FastEstimator-Train: step: 2300; ce: 0.036684215; steps/sec: 97.12;\n",
      "FastEstimator-Train: step: 2400; ce: 0.03193538; steps/sec: 79.54;\n",
      "FastEstimator-Train: step: 2500; ce: 0.0068618734; steps/sec: 97.76;\n",
      "FastEstimator-Train: step: 2600; ce: 0.094627365; steps/sec: 99.99;\n",
      "FastEstimator-Train: step: 2700; ce: 0.02207269; steps/sec: 81.81;\n",
      "FastEstimator-Train: step: 2800; ce: 0.0032791519; steps/sec: 86.55;\n",
      "FastEstimator-Train: step: 2900; ce: 0.13847601; steps/sec: 112.05;\n",
      "FastEstimator-Train: step: 3000; ce: 0.4796511; steps/sec: 104.49;\n",
      "FastEstimator-Train: step: 3100; ce: 0.09214246; steps/sec: 101.39;\n",
      "FastEstimator-Train: step: 3200; ce: 0.002199495; steps/sec: 113.78;\n",
      "FastEstimator-Train: step: 3300; ce: 0.12065497; steps/sec: 110.39;\n",
      "FastEstimator-Train: step: 3400; ce: 0.011945572; steps/sec: 109.95;\n",
      "FastEstimator-Train: step: 3500; ce: 0.0031106796; steps/sec: 114.55;\n",
      "FastEstimator-Train: step: 3600; ce: 0.011809886; steps/sec: 110.53;\n",
      "FastEstimator-Train: step: 3700; ce: 0.07264317; steps/sec: 110.4;\n",
      "FastEstimator-Train: step: 3750; epoch: 2; epoch_time: 19.04 sec;\n",
      "Eval Progress: 1/312;\n",
      "Eval Progress: 104/312; steps/sec: 161.79;\n",
      "Eval Progress: 208/312; steps/sec: 188.57;\n",
      "Eval Progress: 312/312; steps/sec: 164.45;\n",
      "FastEstimator-BestModelSaver: Saved model to C:\\Users\\zanma\\AppData\\Local\\Temp\\tmpouxlxlgy\\model_best_accuracy.h5\n",
      "FastEstimator-Eval: step: 3750; epoch: 2; accuracy: 0.9877; ce: 0.036536276; max_accuracy: 0.9877; since_best_accuracy: 0;\n",
      "FastEstimator-Finish: step: 3750; model_lr: 0.001; total_time: 43.7 sec;\n"
     ]
    }
   ],
   "source": [
    "estimator.fit()"
   ]
  },
  {
   "cell_type": "code",
   "execution_count": 7,
   "id": "c8a55622",
   "metadata": {},
   "outputs": [
    {
     "name": "stdout",
     "output_type": "stream",
     "text": [
      "Ground truth class is 7\n",
      "Predicted class is 7\n"
     ]
    },
    {
     "data": {
      "image/png": "[encoded data removed]",
      "text/plain": [
       "<IPython.core.display.Image object>"
      ]
     },
     "metadata": {},
     "output_type": "display_data"
    }
   ],
   "source": [
    "import numpy as np\n",
    "\n",
    "data = eval_data[0]\n",
    "data = pipeline.transform(data, mode=\"eval\")\n",
    "data = network.transform(data, mode=\"eval\")\n",
    "\n",
    "print(\"Ground truth class is {}\".format(data[\"y\"][0]))\n",
    "print(\"Predicted class is {}\".format(np.argmax(data[\"y_pred\"])))\n",
    "img = fe.util.BatchDisplay(title=\"x\", image=data[\"x\"])\n",
    "img.show()"
   ]
  }
 ],
 "metadata": {
  "kernelspec": {
   "display_name": "GE",
   "language": "python",
   "name": "ge"
  },
  "language_info": {
   "codemirror_mode": {
    "name": "ipython",
    "version": 3
   },
   "file_extension": ".py",
   "mimetype": "text/x-python",
   "name": "python",
   "nbconvert_exporter": "python",
   "pygments_lexer": "ipython3",
   "version": "3.8.16"
  }
 },
 "nbformat": 4,
 "nbformat_minor": 5
}
